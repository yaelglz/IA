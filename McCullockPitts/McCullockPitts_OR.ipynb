{
 "cells": [
  {
   "metadata": {},
   "cell_type": "markdown",
   "source": "# McCullockPitts OR",
   "id": "40c5669f4f9f4079"
  },
  {
   "metadata": {},
   "cell_type": "markdown",
   "source": [
    "### Implementación de una neurona McCulloch-Pitts que simula el comportamiento de una compuerta lógica OR.\n",
    "La neurona McCulloch-Pitts recibe dos entradas binarias y calcula una suma ponderada usando los pesos asignados. Si esta suma alcanza o supera el umbral definido, la neurona se activa y devuelve un 1; de lo contrario, devuelve 0. En este caso, la neurona se activa cuando al menos una de las entradas es 1, reproduciendo el comportamiento lógico de una compuerta OR: devuelve 1 si alguna entrada es 1, y devuelve 0 solo cuando ambas entradas son 0."
   ],
   "id": "4be9bbc4bee38691"
  },
  {
   "cell_type": "code",
   "id": "initial_id",
   "metadata": {
    "collapsed": true,
    "ExecuteTime": {
     "end_time": "2025-10-04T23:57:22.092713Z",
     "start_time": "2025-10-04T23:57:22.082069Z"
    }
   },
   "source": [
    "import numpy as np\n",
    "# Entradas para la neurona\n",
    "X = np.array([\n",
    "    [0, 0],\n",
    "    [0, 1],\n",
    "    [1, 0],\n",
    "    [1, 1]\n",
    "])\n",
    "# Salidas esperadas para OR\n",
    "Y = np.array([0, 1, 1, 1])\n",
    "# Pesos para las entradas\n",
    "W = [1, 1]\n",
    "# Umbral para la función de activación\n",
    "umbral = 1\n",
    "\n",
    "class McCullochPitts:\n",
    "    def __init__(self, weights, umbral):\n",
    "        \"\"\"\n",
    "            Constructor de la neurona MCP.\n",
    "            Guarda las variables\n",
    "            weights -> vector de pesos iniciales\n",
    "            umbral -> umbral para usar en la funcion de activación\n",
    "        \"\"\"\n",
    "        self.weights = weights\n",
    "        self.umbral = umbral\n",
    "\n",
    "    def predict(self, X):\n",
    "        \"\"\"\n",
    "            Calcula la salida de la neurona para cada fila de entradas X.\n",
    "        \"\"\"\n",
    "        # Lista donde se guardarán las salidas\n",
    "        predictions = []\n",
    "        # Recorremos cada fila de entradas\n",
    "        for i in range(X.shape[0]):\n",
    "            # Calculamos la suma ponderada: w1*x1 + w2*x2\n",
    "            weighted_sum = np.dot(self.weights, X[i])\n",
    "            # Mostramos en consola la entrada y la suma ponderada\n",
    "            print(f\"Input: {X[i]}, Weighted Sum: {weighted_sum}\")\n",
    "            # Comparación con el umbral determinar si la neurona se activa o no\n",
    "            if weighted_sum >= self.umbral:\n",
    "                predictions.append(1)\n",
    "            else:\n",
    "                predictions.append(0)\n",
    "        return predictions\n",
    "\n",
    "# Instanciamos la clase McCullochPitts\n",
    "mcp = McCullochPitts(W, umbral)\n",
    "# Calculamos las predicciones\n",
    "predictions = mcp.predict(X)\n",
    "# Mostramos el resultado final\n",
    "print(\"Predictions:\", predictions)\n"
   ],
   "outputs": [
    {
     "name": "stdout",
     "output_type": "stream",
     "text": [
      "Input: [0 0], Weighted Sum: 0\n",
      "Input: [0 1], Weighted Sum: 1\n",
      "Input: [1 0], Weighted Sum: 1\n",
      "Input: [1 1], Weighted Sum: 2\n",
      "Predictions: [0, 1, 1, 1]\n"
     ]
    }
   ],
   "execution_count": 2
  }
 ],
 "metadata": {
  "kernelspec": {
   "display_name": "Python 3",
   "language": "python",
   "name": "python3"
  },
  "language_info": {
   "codemirror_mode": {
    "name": "ipython",
    "version": 2
   },
   "file_extension": ".py",
   "mimetype": "text/x-python",
   "name": "python",
   "nbconvert_exporter": "python",
   "pygments_lexer": "ipython2",
   "version": "2.7.6"
  }
 },
 "nbformat": 4,
 "nbformat_minor": 5
}
