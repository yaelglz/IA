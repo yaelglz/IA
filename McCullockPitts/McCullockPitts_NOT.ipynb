{
 "cells": [
  {
   "metadata": {},
   "cell_type": "markdown",
   "source": "# McCulloch-Pitts NOT",
   "id": "4523aef016496087"
  },
  {
   "metadata": {},
   "cell_type": "markdown",
   "source": [
    "### Implementación de una neurona McCulloch-Pitts para simular una compuerta lógica NOT\n",
    "\n",
    "La compuerta NOT es una función lógica unaria que invierte el valor de entrada:\n",
    "- Si la entrada es 0, la salida es 1\n",
    "- Si la entrada es 1, la salida es 0\n",
    "\n",
    "**Funcionamiento:**\n",
    "La neurona McCulloch-Pitts calcula una suma ponderada de sus entradas multiplicadas por sus pesos. Si el resultado alcanza o supera el umbral establecido, la neurona se activa (salida = 1); de lo contrario, permanece inactiva (salida = 0).\n",
    "\n",
    "**Parámetros para NOT:**\n",
    "- **Peso (W):** -1 (para invertir la señal de entrada)\n",
    "- **Umbral:** 0 (punto de decisión)\n",
    "\n",
    "**Tabla de verdad:**\n",
    "```\n",
    "Entrada | Salida\n",
    "   0    |   1\n",
    "   1    |   0\n",
    "```\n"
   ],
   "id": "bfbac168f5fda25b"
  },
  {
   "cell_type": "code",
   "id": "initial_id",
   "metadata": {
    "collapsed": true,
    "ExecuteTime": {
     "end_time": "2025-10-04T23:57:11.355898Z",
     "start_time": "2025-10-04T23:57:11.337742Z"
    }
   },
   "source": [
    "import numpy as np\n",
    "# Entradas para la neurona (una sola entrada para NOT)\n",
    "X = np.array([\n",
    "    [0],\n",
    "    [1]\n",
    "])\n",
    "# Salidas esperadas para NOT\n",
    "Y = np.array([1, 0])\n",
    "# Peso para la entrada (usamos -1 para invertir la señal)\n",
    "W = [-1]\n",
    "# Umbral para la función de activación\n",
    "umbral = 0\n",
    "\n",
    "class McCullochPitts:\n",
    "    def __init__(self, weights, umbral):\n",
    "        \"\"\"\n",
    "            Constructor de la neurona MCP.\n",
    "            Guarda las variables\n",
    "            weights -> vector de pesos iniciales\n",
    "            umbral -> umbral para usar en la funcion de activación\n",
    "        \"\"\"\n",
    "        self.weights = weights\n",
    "        self.umbral = umbral\n",
    "\n",
    "    def predict(self, X):\n",
    "        \"\"\"\n",
    "            Calcula la salida de la neurona para cada fila de entradas X.\n",
    "        \"\"\"\n",
    "        # Lista donde se guardarán las salidas\n",
    "        predictions = []\n",
    "        # Recorremos cada fila de entradas\n",
    "        for i in range(X.shape[0]):\n",
    "            # Calculamos la suma ponderada: w*x\n",
    "            weighted_sum = np.dot(self.weights, X[i])\n",
    "            # Mostramos en consola la entrada y la suma ponderada\n",
    "            print(f\"Input: {X[i]}, Weighted Sum: {weighted_sum}\")\n",
    "            # Comparación con el umbral determinar si la neurona se activa o no\n",
    "            if weighted_sum >= self.umbral:\n",
    "                predictions.append(1)\n",
    "            else:\n",
    "                predictions.append(0)\n",
    "        return predictions\n",
    "\n",
    "# Instanciamos la clase McCullochPitts\n",
    "mcp = McCullochPitts(W, umbral)\n",
    "# Calculamos las predicciones\n",
    "predictions = mcp.predict(X)\n",
    "# Mostramos el resultado final\n",
    "print(\"Predictions:\", predictions)"
   ],
   "outputs": [
    {
     "name": "stdout",
     "output_type": "stream",
     "text": [
      "Input: [0], Weighted Sum: 0\n",
      "Input: [1], Weighted Sum: -1\n",
      "Predictions: [1, 0]\n"
     ]
    }
   ],
   "execution_count": 2
  }
 ],
 "metadata": {
  "kernelspec": {
   "display_name": "Python 3",
   "language": "python",
   "name": "python3"
  },
  "language_info": {
   "codemirror_mode": {
    "name": "ipython",
    "version": 2
   },
   "file_extension": ".py",
   "mimetype": "text/x-python",
   "name": "python",
   "nbconvert_exporter": "python",
   "pygments_lexer": "ipython2",
   "version": "2.7.6"
  }
 },
 "nbformat": 4,
 "nbformat_minor": 5
}
