{
 "cells": [
  {
   "metadata": {},
   "cell_type": "markdown",
   "source": "# Modelo Perceptron",
   "id": "8bfd56595ce33e6c"
  },
  {
   "metadata": {},
   "cell_type": "markdown",
   "source": "## Clase Perceptron",
   "id": "96dac7d6dca0a2c8"
  },
  {
   "metadata": {},
   "cell_type": "markdown",
   "source": [
    "### Implementación de un Perceptrón para compuerta lógica OR\n",
    "\n",
    "La compuerta OR es una función lógica binaria que produce una salida igual a 1 si al menos una de sus entradas es 1.\n",
    "\n",
    "- Si ambas entradas son 0, la salida es 0.\n",
    "- En cualquier otro caso, la salida es 1.\n",
    "\n",
    "#### Funcionamiento del perceptrón\n",
    "- Calcula una combinación lineal de las entradas: z = w1·x1 + w2·x2 + b.\n",
    "- Aplica una función de activación umbral:\n",
    "  - Si z >= 0 → salida = 1.\n",
    "  - Si z < 0 → salida = 0.\n",
    "\n",
    "#### Parámetros (ejemplo) para OR\n",
    "- Pesos (W): [0.5, 0.5]\n",
    "- Sesgo (b): -0.4\n",
    "- Tasa de aprendizaje (η): 0.1\n",
    "\n",
    "#### Tabla de verdad\n",
    "| x1 | x2 | OR |\n",
    "|---:|---:|---:|\n",
    "|  0 |  0 |  0 |\n",
    "|  0 |  1 |  1 |\n",
    "|  1 |  0 |  1 |\n",
    "|  1 |  1 |  1 |"
   ],
   "id": "f9055b6e35705fc6"
  },
  {
   "metadata": {
    "ExecuteTime": {
     "end_time": "2025-10-12T03:46:37.523391Z",
     "start_time": "2025-10-12T03:46:37.515153Z"
    }
   },
   "cell_type": "code",
   "source": [
    "class Perceptron:\n",
    "    def __init__ (self, pesos, sesgo,tasa_de_aprendizaje):\n",
    "        \"\"\"\n",
    "        Parametros:\n",
    "            pesos: es una lista\n",
    "            sesgo: es un float\n",
    "            tasa_de_aprendizaje: es un float\n",
    "        \"\"\"\n",
    "        self.pesos = pesos\n",
    "        self.sesgo = sesgo\n",
    "        self.tasa_de_aprendizaje = tasa_de_aprendizaje\n",
    "\n",
    "    def funcion_de_activacion(self, z):\n",
    "        \"\"\"\n",
    "         Parametros:\n",
    "           z es el resultado del producto de X con pesos + el sesgo\n",
    "        \"\"\"\n",
    "        if z >= 0:\n",
    "            return 1\n",
    "        else:\n",
    "            return 0\n",
    "\n",
    "    def entrenamiento(self, X, Y, epocas):\n",
    "        \"\"\"\n",
    "        \"\"\"\n",
    "        for epoca in range(epocas):\n",
    "            for dato in X:\n",
    "                # Definimos los datos\n",
    "                x1 = dato[0]\n",
    "                x2 = dato[1]\n",
    "                w1 = self.pesos[0]\n",
    "                w2 = self.pesos[1]\n",
    "                y_real = Y[X.index(dato)]\n",
    "                # Realizamos la prediccion del modelo\n",
    "                z = x1*w1 + x2*w2 + self.sesgo\n",
    "                y_pred = self.funcion_de_activacion(z)\n",
    "                # Actualizamos los pesos\n",
    "                self.pesos[0] = w1 + self.tasa_de_aprendizaje*(y_real - y_pred)*x1\n",
    "                self.pesos[1] = w2 + self.tasa_de_aprendizaje*(y_real - y_pred)*x2\n",
    "                self.sesgo = self.sesgo + self.tasa_de_aprendizaje*(y_real - y_pred)\n",
    "                print(f'Dato: {dato}, pesos: {self.pesos} y sesgo: {self.sesgo}')\n",
    "            print(f'Dato: {epoca}, pesos: {self.pesos} y sesgo: {self.sesgo}')\n",
    "\n",
    "    def prediccion(self, X, Y):\n",
    "         for dato in X:\n",
    "            # Definimos los datos\n",
    "            x1 = dato[0]\n",
    "            x2 = dato[1]\n",
    "            w1 = self.pesos[0]\n",
    "            w2 = self.pesos[1]\n",
    "            y_real = Y[X.index(dato)]\n",
    "            # Realizamos la prediccion del modelo\n",
    "            z = x1*w1 + x2*w2 + self.sesgo\n",
    "            y_pred = self.funcion_de_activacion(z)\n",
    "            print(f'Dato {dato}, prediccion:{y_pred}, valor real: {y_real}')"
   ],
   "id": "f065c1264009f54b",
   "outputs": [],
   "execution_count": 9
  },
  {
   "metadata": {
    "ExecuteTime": {
     "end_time": "2025-10-12T03:46:40.451056Z",
     "start_time": "2025-10-12T03:46:40.446109Z"
    }
   },
   "cell_type": "code",
   "source": [
    "X = [[1, 1], [0, 1],[1, 0], [0, 0]]\n",
    "Y = [1, 1, 1, 0]\n",
    "sesgo = 2\n",
    "pesos = [5, 3]\n",
    "tasa_de_aprendizaje = 0.1"
   ],
   "id": "fc5dac6ee5d04c5c",
   "outputs": [],
   "execution_count": 10
  },
  {
   "metadata": {},
   "cell_type": "markdown",
   "source": "Inicializamos la clase",
   "id": "c3b0d1494d4355bf"
  },
  {
   "metadata": {
    "ExecuteTime": {
     "end_time": "2025-10-12T03:46:41.841234Z",
     "start_time": "2025-10-12T03:46:41.833824Z"
    }
   },
   "cell_type": "code",
   "source": "p = Perceptron(pesos, sesgo, tasa_de_aprendizaje)",
   "id": "8b4e9a37bea69ddd",
   "outputs": [],
   "execution_count": 11
  },
  {
   "metadata": {},
   "cell_type": "markdown",
   "source": "Entrenamiento",
   "id": "7bdc21c3a510581e"
  },
  {
   "metadata": {
    "ExecuteTime": {
     "end_time": "2025-10-12T03:46:43.279991Z",
     "start_time": "2025-10-12T03:46:43.276406Z"
    }
   },
   "cell_type": "code",
   "source": [
    "epocas = 10\n",
    "p.entrenamiento(X, Y, epocas)\n"
   ],
   "id": "14b232dceb9b0cb4",
   "outputs": [
    {
     "name": "stdout",
     "output_type": "stream",
     "text": [
      "Dato: [1, 1], pesos: [5.0, 3.0] y sesgo: 2.0\n",
      "Dato: [0, 1], pesos: [5.0, 3.0] y sesgo: 2.0\n",
      "Dato: [1, 0], pesos: [5.0, 3.0] y sesgo: 2.0\n",
      "Dato: [0, 0], pesos: [5.0, 3.0] y sesgo: 1.9\n",
      "Dato: 0, pesos: [5.0, 3.0] y sesgo: 1.9\n",
      "Dato: [1, 1], pesos: [5.0, 3.0] y sesgo: 1.9\n",
      "Dato: [0, 1], pesos: [5.0, 3.0] y sesgo: 1.9\n",
      "Dato: [1, 0], pesos: [5.0, 3.0] y sesgo: 1.9\n",
      "Dato: [0, 0], pesos: [5.0, 3.0] y sesgo: 1.7999999999999998\n",
      "Dato: 1, pesos: [5.0, 3.0] y sesgo: 1.7999999999999998\n",
      "Dato: [1, 1], pesos: [5.0, 3.0] y sesgo: 1.7999999999999998\n",
      "Dato: [0, 1], pesos: [5.0, 3.0] y sesgo: 1.7999999999999998\n",
      "Dato: [1, 0], pesos: [5.0, 3.0] y sesgo: 1.7999999999999998\n",
      "Dato: [0, 0], pesos: [5.0, 3.0] y sesgo: 1.6999999999999997\n",
      "Dato: 2, pesos: [5.0, 3.0] y sesgo: 1.6999999999999997\n",
      "Dato: [1, 1], pesos: [5.0, 3.0] y sesgo: 1.6999999999999997\n",
      "Dato: [0, 1], pesos: [5.0, 3.0] y sesgo: 1.6999999999999997\n",
      "Dato: [1, 0], pesos: [5.0, 3.0] y sesgo: 1.6999999999999997\n",
      "Dato: [0, 0], pesos: [5.0, 3.0] y sesgo: 1.5999999999999996\n",
      "Dato: 3, pesos: [5.0, 3.0] y sesgo: 1.5999999999999996\n",
      "Dato: [1, 1], pesos: [5.0, 3.0] y sesgo: 1.5999999999999996\n",
      "Dato: [0, 1], pesos: [5.0, 3.0] y sesgo: 1.5999999999999996\n",
      "Dato: [1, 0], pesos: [5.0, 3.0] y sesgo: 1.5999999999999996\n",
      "Dato: [0, 0], pesos: [5.0, 3.0] y sesgo: 1.4999999999999996\n",
      "Dato: 4, pesos: [5.0, 3.0] y sesgo: 1.4999999999999996\n",
      "Dato: [1, 1], pesos: [5.0, 3.0] y sesgo: 1.4999999999999996\n",
      "Dato: [0, 1], pesos: [5.0, 3.0] y sesgo: 1.4999999999999996\n",
      "Dato: [1, 0], pesos: [5.0, 3.0] y sesgo: 1.4999999999999996\n",
      "Dato: [0, 0], pesos: [5.0, 3.0] y sesgo: 1.3999999999999995\n",
      "Dato: 5, pesos: [5.0, 3.0] y sesgo: 1.3999999999999995\n",
      "Dato: [1, 1], pesos: [5.0, 3.0] y sesgo: 1.3999999999999995\n",
      "Dato: [0, 1], pesos: [5.0, 3.0] y sesgo: 1.3999999999999995\n",
      "Dato: [1, 0], pesos: [5.0, 3.0] y sesgo: 1.3999999999999995\n",
      "Dato: [0, 0], pesos: [5.0, 3.0] y sesgo: 1.2999999999999994\n",
      "Dato: 6, pesos: [5.0, 3.0] y sesgo: 1.2999999999999994\n",
      "Dato: [1, 1], pesos: [5.0, 3.0] y sesgo: 1.2999999999999994\n",
      "Dato: [0, 1], pesos: [5.0, 3.0] y sesgo: 1.2999999999999994\n",
      "Dato: [1, 0], pesos: [5.0, 3.0] y sesgo: 1.2999999999999994\n",
      "Dato: [0, 0], pesos: [5.0, 3.0] y sesgo: 1.1999999999999993\n",
      "Dato: 7, pesos: [5.0, 3.0] y sesgo: 1.1999999999999993\n",
      "Dato: [1, 1], pesos: [5.0, 3.0] y sesgo: 1.1999999999999993\n",
      "Dato: [0, 1], pesos: [5.0, 3.0] y sesgo: 1.1999999999999993\n",
      "Dato: [1, 0], pesos: [5.0, 3.0] y sesgo: 1.1999999999999993\n",
      "Dato: [0, 0], pesos: [5.0, 3.0] y sesgo: 1.0999999999999992\n",
      "Dato: 8, pesos: [5.0, 3.0] y sesgo: 1.0999999999999992\n",
      "Dato: [1, 1], pesos: [5.0, 3.0] y sesgo: 1.0999999999999992\n",
      "Dato: [0, 1], pesos: [5.0, 3.0] y sesgo: 1.0999999999999992\n",
      "Dato: [1, 0], pesos: [5.0, 3.0] y sesgo: 1.0999999999999992\n",
      "Dato: [0, 0], pesos: [5.0, 3.0] y sesgo: 0.9999999999999992\n",
      "Dato: 9, pesos: [5.0, 3.0] y sesgo: 0.9999999999999992\n"
     ]
    }
   ],
   "execution_count": 12
  }
 ],
 "metadata": {
  "kernelspec": {
   "display_name": "Python 3",
   "language": "python",
   "name": "python3"
  },
  "language_info": {
   "codemirror_mode": {
    "name": "ipython",
    "version": 2
   },
   "file_extension": ".py",
   "mimetype": "text/x-python",
   "name": "python",
   "nbconvert_exporter": "python",
   "pygments_lexer": "ipython2",
   "version": "2.7.6"
  }
 },
 "nbformat": 4,
 "nbformat_minor": 5
}
